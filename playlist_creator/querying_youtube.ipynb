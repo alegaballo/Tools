{
 "cells": [
  {
   "cell_type": "code",
   "execution_count": 1,
   "metadata": {
    "ExecuteTime": {
     "end_time": "2018-09-01T15:53:38.726531Z",
     "start_time": "2018-09-01T15:53:38.261267Z"
    }
   },
   "outputs": [],
   "source": [
    "import urllib.request\n",
    "import urllib.parse\n",
    "import re\n",
    "import pandas as pd\n",
    "pd.options.display.max_rows = 2000"
   ]
  },
  {
   "cell_type": "code",
   "execution_count": 40,
   "metadata": {
    "ExecuteTime": {
     "end_time": "2018-09-01T16:50:05.006603Z",
     "start_time": "2018-09-01T16:50:04.991786Z"
    }
   },
   "outputs": [],
   "source": [
    "tracks = pd.read_csv('titles.csv')"
   ]
  },
  {
   "cell_type": "code",
   "execution_count": 41,
   "metadata": {
    "ExecuteTime": {
     "end_time": "2018-09-01T16:50:06.499751Z",
     "start_time": "2018-09-01T16:50:06.495474Z"
    }
   },
   "outputs": [],
   "source": [
    "# cleaning artists\n",
    "tracks['artists'] = tracks['artists'].apply\\\n",
    "    (lambda x: x[len('\\ufeff'):] if x[:len('\\ufeff')] == '\\ufeff' else x)"
   ]
  },
  {
   "cell_type": "code",
   "execution_count": 42,
   "metadata": {
    "ExecuteTime": {
     "end_time": "2018-09-01T16:50:07.833651Z",
     "start_time": "2018-09-01T16:50:07.814853Z"
    },
    "scrolled": true
   },
   "outputs": [
    {
     "data": {
      "text/plain": [
       "832"
      ]
     },
     "execution_count": 42,
     "metadata": {},
     "output_type": "execute_result"
    }
   ],
   "source": [
    "# how many distinct artists do I have?\n",
    "artists = set()\n",
    "for a in list(tracks['artists'].unique()):\n",
    "#     print('-------', a)\n",
    "    names = a.split(' ')\n",
    "    for n in names:\n",
    "        artists.add(n)\n",
    "len(artists)"
   ]
  },
  {
   "cell_type": "code",
   "execution_count": 43,
   "metadata": {
    "ExecuteTime": {
     "end_time": "2018-09-01T16:50:08.986579Z",
     "start_time": "2018-09-01T16:50:08.981530Z"
    }
   },
   "outputs": [],
   "source": [
    "# to check possible typos\n",
    "sorted_artists = list(artists)\n",
    "sorted_artists.sort()\n",
    "# sorted_artists"
   ]
  },
  {
   "cell_type": "code",
   "execution_count": 44,
   "metadata": {
    "ExecuteTime": {
     "end_time": "2018-09-01T16:50:10.464991Z",
     "start_time": "2018-09-01T16:50:10.445091Z"
    }
   },
   "outputs": [],
   "source": [
    "# what are the most frequent artists?\n",
    "artist_occurrences = dict()\n",
    "for a in list(tracks['artists']):\n",
    "    names = a.split(' ')\n",
    "    for n in names:\n",
    "        if n not in artist_occurrences.keys():\n",
    "            artist_occurrences[n] = 0\n",
    "        artist_occurrences[n] += 1"
   ]
  },
  {
   "cell_type": "code",
   "execution_count": 45,
   "metadata": {
    "ExecuteTime": {
     "end_time": "2018-09-01T16:50:14.665542Z",
     "start_time": "2018-09-01T16:50:14.661242Z"
    }
   },
   "outputs": [],
   "source": [
    "artist_occurrences_list = []\n",
    "for a, o in artist_occurrences.items():\n",
    "#     print('-',o)\n",
    "    artist_occurrences_list.append([a, o])\n",
    "artist_occurrences_list.sort(key=lambda x: -x[1])"
   ]
  },
  {
   "cell_type": "code",
   "execution_count": 46,
   "metadata": {
    "ExecuteTime": {
     "end_time": "2018-09-01T16:50:16.276694Z",
     "start_time": "2018-09-01T16:50:16.271618Z"
    }
   },
   "outputs": [
    {
     "data": {
      "text/plain": [
       "[['Paul_Kalkbrenner', 44],\n",
       " ['Ludovico_Einaudi', 43],\n",
       " ['Yann_Tiersen', 40],\n",
       " ['Coldplay', 37],\n",
       " ['Flume', 29],\n",
       " ['Enrico_Caruso', 27],\n",
       " ['Chopin', 24],\n",
       " ['Fritz_Kalkbrenner', 24],\n",
       " ['Nils_Frahm', 21],\n",
       " ['Florence_and_The_Machine', 20],\n",
       " ['Daughter', 19],\n",
       " ['Fabri_Fibra', 19],\n",
       " ['Beriot', 18],\n",
       " ['Hardwell', 18],\n",
       " ['David_Guetta', 17],\n",
       " ['Johann_Strauss_II', 16],\n",
       " ['Benny_Benassi', 16],\n",
       " ['Arvo_Pärt', 16],\n",
       " ['Locatelli', 15],\n",
       " ['The_xx', 15]]"
      ]
     },
     "execution_count": 46,
     "metadata": {},
     "output_type": "execute_result"
    }
   ],
   "source": [
    "artist_occurrences_list[:20]"
   ]
  },
  {
   "cell_type": "code",
   "execution_count": null,
   "metadata": {},
   "outputs": [],
   "source": [
    "# listen to tracks"
   ]
  },
  {
   "cell_type": "code",
   "execution_count": 47,
   "metadata": {
    "ExecuteTime": {
     "end_time": "2018-09-01T16:50:32.707495Z",
     "start_time": "2018-09-01T16:50:32.704316Z"
    }
   },
   "outputs": [],
   "source": [
    "tracks_list = tracks.values.tolist()"
   ]
  },
  {
   "cell_type": "code",
   "execution_count": 36,
   "metadata": {
    "ExecuteTime": {
     "end_time": "2018-09-01T16:47:16.742753Z",
     "start_time": "2018-09-01T16:47:16.737570Z"
    }
   },
   "outputs": [],
   "source": [
    "def printt(s):\n",
    "    print('--' + str(s))\n"
   ]
  },
  {
   "cell_type": "code",
   "execution_count": 53,
   "metadata": {
    "ExecuteTime": {
     "end_time": "2018-09-01T16:52:35.371086Z",
     "start_time": "2018-09-01T16:52:35.356085Z"
    }
   },
   "outputs": [
    {
     "data": {
      "text/plain": [
       "'kisnou let go'"
      ]
     },
     "execution_count": 53,
     "metadata": {},
     "output_type": "execute_result"
    }
   ],
   "source": [
    "i = 10\n",
    "t = tracks_list[i]\n",
    "search = ''\n",
    "for el in t:\n",
    "    el = el.replace('_', ' ')\n",
    "#     printt(el)\n",
    "    search += (el) + ' '\n",
    "search = search[:-1]\n",
    "search"
   ]
  },
  {
   "cell_type": "code",
   "execution_count": 54,
   "metadata": {
    "ExecuteTime": {
     "end_time": "2018-09-01T16:53:58.428891Z",
     "start_time": "2018-09-01T16:53:57.658252Z"
    }
   },
   "outputs": [
    {
     "name": "stdout",
     "output_type": "stream",
     "text": [
      "http://www.youtube.com/watch?v=dedrAuOpOT8\n"
     ]
    }
   ],
   "source": [
    "query_string = urllib.parse.urlencode({\"search_query\" : search})\n",
    "html_content = urllib.request.urlopen(\"http://www.youtube.com/results?\" + query_string)\n",
    "search_results = re.findall(r'href=\\\"\\/watch\\?v=(.{11})', html_content.read().decode())\n",
    "print(\"http://www.youtube.com/watch?v=\" + search_results[0])"
   ]
  }
 ],
 "metadata": {
  "kernelspec": {
   "display_name": "Python 3",
   "language": "python",
   "name": "python3"
  },
  "language_info": {
   "codemirror_mode": {
    "name": "ipython",
    "version": 3
   },
   "file_extension": ".py",
   "mimetype": "text/x-python",
   "name": "python",
   "nbconvert_exporter": "python",
   "pygments_lexer": "ipython3",
   "version": "3.6.5"
  }
 },
 "nbformat": 4,
 "nbformat_minor": 2
}
