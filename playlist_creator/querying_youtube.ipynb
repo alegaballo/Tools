{
 "cells": [
  {
   "cell_type": "code",
   "execution_count": 1,
   "metadata": {
    "ExecuteTime": {
     "end_time": "2018-10-03T21:29:25.955219Z",
     "start_time": "2018-10-03T21:29:25.572615Z"
    }
   },
   "outputs": [],
   "source": [
    "import urllib.request\n",
    "import urllib.parse\n",
    "import re\n",
    "import spotipy\n",
    "import spotipy.util as util\n",
    "import spotify_tokens\n",
    "import pandas as pd\n",
    "pd.options.display.max_rows = 2000\n",
    "user = 'matteo7moh'"
   ]
  },
  {
   "cell_type": "code",
   "execution_count": 2,
   "metadata": {
    "ExecuteTime": {
     "end_time": "2018-10-03T21:01:51.631159Z",
     "start_time": "2018-10-03T21:01:51.620511Z"
    }
   },
   "outputs": [],
   "source": [
    "tracks = pd.read_csv('titles.csv')"
   ]
  },
  {
   "cell_type": "code",
   "execution_count": 2,
   "metadata": {
    "ExecuteTime": {
     "end_time": "2018-10-03T21:29:27.143379Z",
     "start_time": "2018-10-03T21:29:27.139784Z"
    }
   },
   "outputs": [],
   "source": [
    "token = util.prompt_for_user_token(user, \"user-library-read\", \n",
    "                            client_id=spotify_tokens.SPOTIPY_CLIENT_ID,\n",
    "                            client_secret=spotify_tokens.SPOTIPY_CLIENT_SECRET, \n",
    "                            redirect_uri=spotify_tokens.SPOTIPY_REDIRECT_URI)"
   ]
  },
  {
   "cell_type": "code",
   "execution_count": 3,
   "metadata": {
    "ExecuteTime": {
     "end_time": "2018-10-03T21:29:31.449051Z",
     "start_time": "2018-10-03T21:29:31.444231Z"
    }
   },
   "outputs": [],
   "source": [
    "sp = spotipy.Spotify(auth=token)"
   ]
  },
  {
   "cell_type": "code",
   "execution_count": 39,
   "metadata": {
    "ExecuteTime": {
     "end_time": "2018-10-03T21:20:56.225468Z",
     "start_time": "2018-10-03T21:20:56.102374Z"
    }
   },
   "outputs": [],
   "source": [
    "playlists = sp.user_playlists(user)"
   ]
  },
  {
   "cell_type": "code",
   "execution_count": 40,
   "metadata": {
    "ExecuteTime": {
     "end_time": "2018-10-03T21:20:57.249079Z",
     "start_time": "2018-10-03T21:20:57.243928Z"
    }
   },
   "outputs": [
    {
     "name": "stdout",
     "output_type": "stream",
     "text": [
      "_schubert\n",
      "BMW Classics - 1 Jul 2018 - Trafalgar Square, London\n",
      "Sommernachtskonzert 2018, Schönbrunn Palace Wien\n",
      "Giants\n",
      "Sam Rae – Stories from the Marrow\n",
      "Voices and Rythms\n",
      "Airplanes\n",
      "Trains\n",
      "Son Lux\n",
      "Dark Journeys\n",
      "Musikverein Konzert - Beethoven und Prokofiev\n"
     ]
    }
   ],
   "source": [
    "for playlist in playlists['items']:\n",
    "    print(playlist['name'])\n",
    "#     results = sp.user_playlist(user, playlist['id'],fields=\"tracks,next\")"
   ]
  },
  {
   "cell_type": "code",
   "execution_count": 8,
   "metadata": {
    "ExecuteTime": {
     "end_time": "2018-10-03T21:33:49.337310Z",
     "start_time": "2018-10-03T21:33:49.020410Z"
    }
   },
   "outputs": [],
   "source": [
    "results1 = sp.current_user_saved_tracks(limit=5)\n",
    "results2 = sp.current_user_saved_tracks(limit=5, offset=5)"
   ]
  },
  {
   "cell_type": "code",
   "execution_count": 25,
   "metadata": {
    "ExecuteTime": {
     "end_time": "2018-10-03T22:01:57.629686Z",
     "start_time": "2018-10-03T22:01:57.620063Z"
    }
   },
   "outputs": [
    {
     "data": {
      "text/plain": [
       "'Peae Piee'"
      ]
     },
     "execution_count": 25,
     "metadata": {},
     "output_type": "execute_result"
    }
   ],
   "source": [
    "''.join([c for c in track['name'] if c != ','])"
   ]
  },
  {
   "cell_type": "code",
   "execution_count": 26,
   "metadata": {
    "ExecuteTime": {
     "end_time": "2018-10-03T22:02:14.869262Z",
     "start_time": "2018-10-03T22:02:10.968537Z"
    }
   },
   "outputs": [
    {
     "name": "stdout",
     "output_type": "stream",
     "text": [
      "Colin_Stetson,To See More Light\n",
      "Colin_Stetson,Rubdown\n",
      "Colin_Stetson,Sunrise\n",
      "Colin_Stetson,At God’s Doorstep\n",
      "Colin_Stetson,Like wolves on the fold\n",
      "Colin_Stetson,All this I do for glory\n",
      "Colin_Stetson,Control Room\n",
      "Kangding_Ray,Sub.Res\n",
      "Kangding_Ray,Dadaist\n",
      "Macklemore,Ain't Gonna Die Tonight (feat. Eric Nally)\n",
      "Macklemore,Glorious (feat. Skylar Grey)\n",
      "Macklemore,Marmalade (feat. Lil Yachty)\n",
      "Macklemore,Willy Wonka (feat. Offset)\n",
      "Macklemore,Intentions (feat. Dan Caplen)\n",
      "Macklemore,Good Old Days (feat. Kesha)\n",
      "Macklemore,Levitate (feat. Otieno Terry)\n",
      "Macklemore,Firebreather (feat. Reignwolf)\n",
      "Macklemore,How to Play the Flute (feat. King Draino)\n",
      "Macklemore,Ten Million\n",
      "Macklemore,Over It (feat. Donna Missal)\n",
      "Macklemore,Zara (feat. Abir)\n",
      "Macklemore,Corner Store (feat. Dave B & Travis Thompson)\n",
      "Macklemore,Miracle (feat. Dan Caplen)\n",
      "Macklemore,Church (feat. Xperience)\n",
      "Macklemore,Excavate (feat. Saint Claire)\n",
      "Kangding_Ray,Son\n",
      "Kangding_Ray,Transitional Ballistics\n",
      "Kangding_Ray,Crystal\n",
      "Kangding_Ray,History of Obscurity\n",
      "Kangding_Ray,Apogee\n",
      "Kangding_Ray,Amber Decay\n",
      "Kangding_Ray,L'envol\n",
      "Kangding_Ray,Blank Empire\n",
      "Kangding_Ray,When We Were Queens\n",
      "Kangding_Ray,On Sleepless Roads\n",
      "Kangding_Ray,Burning Bridges\n",
      "Tlak,Dispossessed\n",
      "Kangding_Ray,These Are My Rivers\n",
      "Kangding_Ray,LANIAKEA\n",
      "Kangding_Ray,ONDE MANTIS\n",
      "Kangding_Ray,OUTREMER\n",
      "Kangding_Ray,SOUL SURFING\n",
      "Kangding_Ray,DUNE\n",
      "Kangding_Ray,EPSILON\n",
      "Kangding_Ray,LONE PYRAMIDS\n",
      "Kangding_Ray,RUBI\n",
      "Mathame,Opal Cithee\n",
      "Mathame,Prophecy - Amelie Lens Remix\n",
      "Mathame,22\n",
      "Mathame,Fade In To You\n",
      "Mathame,Nothing Around Us\n",
      "Mathame,Alkahest\n",
      "LRKR,Journey\n",
      "Shlohmo,Places\n",
      "Philanthrope,Clockwork (feat. Tusken.)\n",
      "Fujitsu,Reefs\n",
      "Jinsang,Affection\n",
      "Made_in_M,Old Roots New Trees\n",
      "eevee,hold up\n",
      "Mono:Massive,Attila\n",
      "Joey_Pecoraro,Great Food\n",
      "Joey_Pecoraro,Seafood\n",
      "Joey_Pecoraro,The Bishop\n",
      "Joey_Pecoraro,Fly on the Wall\n",
      "Joey_Pecoraro,Warm\n",
      "Joey_Pecoraro,Your Eyes\n",
      "Joey_Pecoraro,Fairy Tale\n",
      "Joey_Pecoraro,To Be Happy\n",
      "Joey_Pecoraro,Sour Sweets\n",
      "Joey_Pecoraro,Lazy on the River\n",
      "Joey_Pecoraro,Tired Boy\n",
      "Four_Tet,Swimmer\n",
      "Four_Tet,Gillie Amma I Love You\n",
      "4TLR,Ba Teaches Yoga - Live in Tokyo 1st December 2013\n",
      "Brian_Eno,Drift - Remastered 2005\n",
      "Brian_Eno,Signals - Remastered 2005\n",
      "Brian_Eno,An Ending (Ascent) - Remastered 2005\n",
      "Peter_Kuli,Everything\n",
      "eevee,corona\n",
      "Joey_Pecoraro,Finding Parking\n",
      "Arbour,Every Night\n",
      "weird_inside,just ask\n",
      "Jazzinuf,Dreaming About You\n",
      "Juan_Rios,Hawaii\n",
      "Wun_Two,Holiday\n",
      "Wun_Two,Sk8teing in Central Park\n",
      "Wun_Two,Again\n",
      "Wun_Two,This\n",
      "Wun_Two,City Sleeps\n",
      "Sleepdealer,1974\n",
      "Sleepdealer,Childhood\n",
      "Sleepdealer,Rolling Papers\n",
      "eevee,passing by\n",
      "Tomppabeats,Far Away\n",
      "Made_in_M,Paper Planes\n",
      "Made_in_M,Submarino\n",
      "Juan_Rios,Colores\n",
      "Torus,Feeel\n",
      "Tomppabeats,Again\n",
      "Colin_Stetson,Reborn\n",
      "Colin_Stetson,Spindrift\n",
      "Colin_Stetson,The Sun Roars Into View\n",
      "Gentlemen_Losers,Honey Bunch\n",
      "Colin_Stetson,The Righteous Wrath of an Honorable Man\n",
      "Victor_Sylvester_&_His_Ballroom_Orchestra,It's the Talk of the Town - Nils Frahm's '78' Recording\n",
      "Ben_Lukas_Boysen,Sleepers Beat Theme\n",
      "Teebs,Verbena Tea with Rebekah Raff\n",
      "Last_Days,Missing Photos\n",
      "Bibio,Down to the Sound\n",
      "A_Winged_Victory_for_the_Sullen,Requiem for the Static King Pt. 1\n",
      "Four_Tet,Two Thousand and Seventeen\n",
      "Four_Tet,LA Trance\n",
      "Four_Tet,Tremper\n",
      "Four_Tet,Lush\n",
      "Four_Tet,You Are Loved\n",
      "Four_Tet,Memories\n",
      "Four_Tet,Daughter\n",
      "Four_Tet,Planet\n",
      "Qasim_Naqvi,Brutal Moderna\n",
      "A_Winged_Victory_for_the_Sullen,Long May It Sustain\n",
      "Rival_Consoles,Ritual Song\n",
      "Nils_Frahm,Frau Dehlholm\n",
      "Daniel_Thorne,Iroise\n",
      "Douglas_Dare,Darling\n",
      "Michael_Price,Eyn Hallow\n",
      "Ben_Lukas_Boysen,Pending\n",
      "Anne_Müller,Bel Tono\n",
      "Lubomyr_Melnyk,Palisade 1\n",
      "Masayoshi_Fujita,Spaceship Magical\n",
      "Högni,Máni\n",
      "Peter_Broderick,The Perpetual Glow\n",
      "Arthur_Jeffes,Up Is Good\n",
      "Daniel_Brandt,Blackpool Sands Forever (Rival Consoles Remix)\n",
      "Penguin_Cafe,Wheels Within Wheels (Greg Gives Peter Space Remix)\n",
      "Ólafur_Arnalds,re:member\n",
      "Ólafur_Arnalds,unfold\n",
      "Ólafur_Arnalds,saman\n",
      "Ólafur_Arnalds,brot\n",
      "Ólafur_Arnalds,inconsist\n",
      "Ólafur_Arnalds,they sink\n",
      "Ólafur_Arnalds,ypsilon\n",
      "Ólafur_Arnalds,partial\n",
      "Ólafur_Arnalds,momentary\n",
      "Ólafur_Arnalds,undir\n",
      "Ólafur_Arnalds,ekki hugsa\n",
      "Ólafur_Arnalds,nyepi\n",
      "4TLR,Planet - Live at Funkhaus Berlin 10th May 2018\n",
      "4TLR,Parallel Jalebi - Live at Funkhaus Berlin 10th May 2018\n",
      "4TLR,Two Thousand and Seventeen - Live at Funkhaus Berlin 10th May 2018\n",
      "4TLR,Scientists - Live at Funkhaus Berlin 10th May 2018\n",
      "4TLR,Lush - Live at Funkhaus Berlin 10th May 2018\n",
      "4TLR,LA Trance - Live at Funkhaus Berlin 10th May 2018\n",
      "4TLR,Morning Side - Live at Funkhaus Berlin 10th May 2018\n",
      "4TLR,Daughter - Live at Funkhaus Berlin 10th May 2018\n",
      "Nuages,Distant\n",
      "Skott,Porcelain - AWAY Remix\n",
      "Malvae,Running Away\n",
      "Taska_Black,Dead Inside\n",
      "Sofie_Letitre,I'll Be Fine - Zes Remix\n",
      "Taylor_Moon,Plastic Blue\n",
      "Nuages,Dreams\n",
      "Ludwig_van_Beethoven,Cello Sonata No. 3 in A Major Op. 69: I. Allegro ma non tanto - Live\n",
      "Recondite,Valvate\n",
      "Recondite,Rainmaker\n",
      "Recondite,Saudade\n",
      "Recondite,Rufus\n",
      "Recondite,Step Back\n",
      "Recondite,Arcane\n",
      "Trikk,Metala\n",
      "Agents_Of_Time,Ness\n",
      "Efdemin,There Will Be Singing - DJ Koze Remix\n",
      "Reference,Ghetto Nebula\n",
      "Marino_Canal,Faint Light\n",
      "Fideles,Resonant\n",
      "Denis_Horvat,4th Wall\n",
      "Fur_Coat,Squared Minds\n",
      "Soulholic,Memorial Day\n",
      "Tale_Of_Us,Error Error\n",
      "Nils_Frahm,The Whole Universe Wants to Be Touched\n",
      "Nils_Frahm,Sunson\n",
      "Nils_Frahm,A Place\n",
      "Nils_Frahm,My Friend the Forest\n",
      "Nils_Frahm,Human Range\n",
      "Nils_Frahm,Forever Changeless\n",
      "Nils_Frahm,All Melody\n",
      "Nils_Frahm,#2\n",
      "Nils_Frahm,Momentum\n",
      "Nils_Frahm,Fundamental Values\n",
      "Nils_Frahm,Kaleidoscope\n",
      "Nils_Frahm,Harm Hymn\n",
      "Johann_Strauss_II,Der Zigeunerbaron: Einzugsmarsch\n",
      "Josef_Strauss,Wiener Fresken Walzer Op. 249\n",
      "Johann_Strauss_II,Brautschau Polka française Op. 417\n",
      "Johann_Strauss_II,Leichtes Blut Polka schnell Op. 319\n",
      "Johann_Strauss_I,Marienwalzer Op. 212\n",
      "Johann_Strauss_I,Wilhelm Tell Galopp Op. 29b\n",
      "Franz_von_Suppé,Boccaccio: Ouvertüre\n",
      "Johann_Strauss_II,Myrthenblüten Walzer Op. 395\n",
      "Alfons_Czibulka,Stephanie-Gavotte Op. 312\n",
      "Johann_Strauss_II,Freikugeln Polka schnell Op. 326\n",
      "Johann_Strauss_II,Geschichten aus dem Wienerwald Walzer Op. 325\n",
      "Johann_Strauss_II,Festmarsch Op. 452\n",
      "Johann_Strauss_II,Stadt und Land Polka Mazurka Op. 322\n",
      "Johann_Strauss_II,Un ballo in maschera Quadrille Op. 272\n",
      "Johann_Strauss_II,Rosen aus dem Süden Walzer Op. 388\n",
      "Josef_Strauss,Eingesendet Polka schnell Op. 240\n",
      "Johann_Strauss_II,Unter Donner und Blitz Polka schnell Op. 324\n",
      "Various_Artists,Neujahrsgruß / New Year's Address / Allocution du Nouvel An\n",
      "Johann_Strauss_II,An der schönen blauen Donau Walzer Op. 314\n",
      "Johann_Strauss_I,Radetzky-Marsch Op. 228\n",
      "Eomac,Spectre - Tommy Four Seven Remix\n",
      "Eomac,Shell of Dark - AnD Remix\n",
      "Eomac,Spoock - Original Mix\n",
      "Eomac,Spoock - Lucy Remix\n",
      "aether,Beyond The Lights\n",
      "Tale_Of_Us,Red Sky\n",
      "Denis_Horvat,Bruto\n",
      "Keith_Carnal,Cloudy Monday\n",
      "Recondite,Hundred1\n",
      "Per:sona,393\n",
      "Mathew_Jonson,The Prophet\n",
      "Black_Peters,Avenue B\n",
      "DARSE,Horus\n",
      "Mathame,Timeshift\n",
      "Hunter/Game,Illusion\n",
      "Woo_York,Hypernova\n",
      "Tale_Of_Us,Definizione dell'impossibile - Monoloc Remix\n",
      "Tale_Of_Us,Alla sera - Kettenkarussell's Triangle Player Rework\n",
      "Tale_Of_Us,Ricordi - Rødhåd Remix\n",
      "Tale_Of_Us,Oltre la vita - SCB Introspection\n",
      "Tale_Of_Us,Dilemma - Sebastian Mullaert Forestation\n",
      "Tale_Of_Us,Notte senza fine - Kiasmos Remix\n",
      "Tale_Of_Us,Destino - Alva Noto Remodel\n",
      "Tale_Of_Us,Distante - Woo York Remix\n",
      "Tale_Of_Us,Venatori - Antigone Remix\n",
      "Tale_Of_Us,Quello che resta - Antonio Ruscito Remix\n",
      "Tale_Of_Us,Venatori - Somne Remix\n",
      "Dustin_O'Halloran,An Ending a Beginning\n",
      "Khruangbin,A Calf Born in Winter\n",
      "Hypnotic_Brass_Ensemble,Flipside\n",
      "Menahan_Street_Band,The Traitor\n",
      "Shlohmo,Places\n",
      "Matthew_Bourne,VIII. Juliet\n",
      "Airhead,South Congress\n",
      "Matthew_Halsall,Sailing out to Sea\n",
      "Bill_Evans,Peace Piece\n"
     ]
    }
   ],
   "source": [
    "lim = 10\n",
    "n = 0\n",
    "for i in range(30):\n",
    "    results = sp.current_user_saved_tracks(limit=lim, offset=i*lim)\n",
    "    for item in results['items']:\n",
    "        track = item['track']\n",
    "        print('_'.join(track['artists'][0]['name'].split(' ')) + ',' + ''.join([c for c in track['name'] if c != ',']))\n",
    "        n += 1"
   ]
  },
  {
   "cell_type": "code",
   "execution_count": 11,
   "metadata": {
    "ExecuteTime": {
     "end_time": "2018-10-03T21:34:16.139123Z",
     "start_time": "2018-10-03T21:34:16.133389Z"
    }
   },
   "outputs": [
    {
     "name": "stdout",
     "output_type": "stream",
     "text": [
      "0 All this I do for glory - Colin Stetson\n",
      "1 Control Room - Colin Stetson\n",
      "2 Sub.Res - Kangding Ray\n",
      "3 Dadaist - Kangding Ray\n",
      "4 Ain't Gonna Die Tonight (feat. Eric Nally) - Macklemore\n"
     ]
    }
   ],
   "source": [
    "for i,item in enumerate(results2['items']):\n",
    "    track = item['track']\n",
    "    print(i, track['name'] + ' - ' + track['artists'][0]['name'])"
   ]
  },
  {
   "cell_type": "code",
   "execution_count": 9,
   "metadata": {
    "ExecuteTime": {
     "end_time": "2018-10-03T21:33:50.791182Z",
     "start_time": "2018-10-03T21:33:50.784409Z"
    },
    "scrolled": true
   },
   "outputs": [
    {
     "name": "stdout",
     "output_type": "stream",
     "text": [
      "0 To See More Light - Colin Stetson\n",
      "1 Rubdown - Colin Stetson\n",
      "2 Sunrise - Colin Stetson\n",
      "3 At God’s Doorstep - Colin Stetson\n",
      "4 Like wolves on the fold - Colin Stetson\n",
      "5 All this I do for glory - Colin Stetson\n",
      "6 Control Room - Colin Stetson\n",
      "7 Sub.Res - Kangding Ray\n",
      "8 Dadaist - Kangding Ray\n",
      "9 Ain't Gonna Die Tonight (feat. Eric Nally) - Macklemore\n",
      "10 Glorious (feat. Skylar Grey) - Macklemore\n",
      "11 Marmalade (feat. Lil Yachty) - Macklemore\n",
      "12 Willy Wonka (feat. Offset) - Macklemore\n",
      "13 Intentions (feat. Dan Caplen) - Macklemore\n",
      "14 Good Old Days (feat. Kesha) - Macklemore\n",
      "15 Levitate (feat. Otieno Terry) - Macklemore\n",
      "16 Firebreather (feat. Reignwolf) - Macklemore\n",
      "17 How to Play the Flute (feat. King Draino) - Macklemore\n",
      "18 Ten Million - Macklemore\n",
      "19 Over It (feat. Donna Missal) - Macklemore\n",
      "20 Zara (feat. Abir) - Macklemore\n",
      "21 Corner Store (feat. Dave B & Travis Thompson) - Macklemore\n",
      "22 Miracle (feat. Dan Caplen) - Macklemore\n",
      "23 Church (feat. Xperience) - Macklemore\n",
      "24 Excavate (feat. Saint Claire) - Macklemore\n",
      "25 Son - Kangding Ray\n",
      "26 Transitional Ballistics - Kangding Ray\n",
      "27 Crystal - Kangding Ray\n",
      "28 History of Obscurity - Kangding Ray\n",
      "29 Apogee - Kangding Ray\n",
      "30 Amber Decay - Kangding Ray\n",
      "31 L'envol - Kangding Ray\n",
      "32 Blank Empire - Kangding Ray\n",
      "33 When We Were Queens - Kangding Ray\n",
      "34 On Sleepless Roads - Kangding Ray\n",
      "35 Burning Bridges - Kangding Ray\n",
      "36 Dispossessed - Tlak\n",
      "37 These Are My Rivers - Kangding Ray\n",
      "38 LANIAKEA - Kangding Ray\n",
      "39 ONDE MANTIS - Kangding Ray\n",
      "40 OUTREMER - Kangding Ray\n",
      "41 SOUL SURFING - Kangding Ray\n",
      "42 DUNE - Kangding Ray\n",
      "43 EPSILON - Kangding Ray\n",
      "44 LONE PYRAMIDS - Kangding Ray\n",
      "45 RUBI - Kangding Ray\n",
      "46 Opal Cithee - Mathame\n",
      "47 Prophecy - Amelie Lens Remix - Mathame\n",
      "48 22 - Mathame\n",
      "49 Fade In To You - Mathame\n"
     ]
    }
   ],
   "source": [
    "for i,item in enumerate(results['items']):\n",
    "    track = item['track']\n",
    "    print(i, track['name'] + ' - ' + track['artists'][0]['name'])"
   ]
  },
  {
   "cell_type": "code",
   "execution_count": 30,
   "metadata": {
    "ExecuteTime": {
     "end_time": "2018-10-03T21:13:04.999432Z",
     "start_time": "2018-10-03T21:13:04.993857Z"
    }
   },
   "outputs": [],
   "source": [
    "def show_tracks(tracks):\n",
    "    for i, item in enumerate(tracks['items']):\n",
    "        track = item['track']\n",
    "        print(track['artists'][0]['name'],track['name'])"
   ]
  },
  {
   "cell_type": "code",
   "execution_count": 31,
   "metadata": {
    "ExecuteTime": {
     "end_time": "2018-10-03T21:13:06.142884Z",
     "start_time": "2018-10-03T21:13:06.131542Z"
    }
   },
   "outputs": [
    {
     "name": "stdout",
     "output_type": "stream",
     "text": [
      "Franz Schubert Impromptus, D. 899 (Op. 90): Impromptu No. 3 in G-Flat Major: Andante\n",
      "Franz Schubert Symphony No.5 In B Flat, D.485: 1. Allegro\n",
      "Franz Schubert Piano Quintet in A Major, Op. 114, D. 667, \"Die Forelle\" (The Trout): II. Andante\n",
      "Franz Schubert Schubert: String Quintet in C Major, D. 956: II. Adagio\n",
      "Franz Schubert Piano sonata in A Major, D. 959: II. Andantino\n",
      "Franz Schubert Schubert: String Quintet in C Major, D. 956: II. Adagio\n",
      "Franz Schubert String Quartet in D Minor, Op. posth. D.810 \"Death and the Maiden\": II. Andante con moto\n",
      "Franz Schubert Piano Trio No. 2 in E-Flat Major, Op. 100, D. 929: II. Andante con moto\n",
      "Franz Schubert Piano Trio No. 2 in E-Flat Major, Op. 100, D. 929: II. Andante con moto\n",
      "Franz Schubert Piano Sonata in B Flat Major, D. 960: I. Molto moderato\n"
     ]
    }
   ],
   "source": [
    "tracks = results['tracks']\n",
    "show_tracks(tracks)\n",
    "while tracks['next']:\n",
    "    tracks = sp.next(tracks)\n",
    "    show_tracks(tracks)"
   ]
  },
  {
   "cell_type": "code",
   "execution_count": 19,
   "metadata": {
    "ExecuteTime": {
     "end_time": "2018-10-03T21:08:50.489711Z",
     "start_time": "2018-10-03T21:08:50.477964Z"
    }
   },
   "outputs": [
    {
     "data": {
      "text/plain": [
       "[{'href': 'https://api.spotify.com/v1/playlists/73NHpzwP6FOPjK5ScFiWNd/tracks',\n",
       "  'total': 10},\n",
       " {'href': 'https://api.spotify.com/v1/playlists/5aQjFiT7syPvxRwcJAy5cv/tracks',\n",
       "  'total': 43},\n",
       " {'href': 'https://api.spotify.com/v1/playlists/3Q4kzEeQoDMG4Qwcwf100Z/tracks',\n",
       "  'total': 13},\n",
       " {'href': 'https://api.spotify.com/v1/playlists/0U2uwwq7ER3VSJPwJiIx95/tracks',\n",
       "  'total': 430},\n",
       " {'href': 'https://api.spotify.com/v1/playlists/7AudCeOfLxv37mXmPuiYPA/tracks',\n",
       "  'total': 10},\n",
       " {'href': 'https://api.spotify.com/v1/playlists/6roXPeOTu6rZgq5IcZEEmj/tracks',\n",
       "  'total': 31},\n",
       " {'href': 'https://api.spotify.com/v1/playlists/0mWNRtXZ7WBdrsdWIKwSel/tracks',\n",
       "  'total': 90},\n",
       " {'href': 'https://api.spotify.com/v1/playlists/0uioYoADYkpFXFrHykyQme/tracks',\n",
       "  'total': 23},\n",
       " {'href': 'https://api.spotify.com/v1/playlists/2FBSqjI4UQknipzQwZojJR/tracks',\n",
       "  'total': 15},\n",
       " {'href': 'https://api.spotify.com/v1/playlists/3ZgU192NAvbl3vUboD9i62/tracks',\n",
       "  'total': 69},\n",
       " {'href': 'https://api.spotify.com/v1/playlists/2YDP57tG5vVx4hwUtFFZ4I/tracks',\n",
       "  'total': 14}]"
      ]
     },
     "execution_count": 19,
     "metadata": {},
     "output_type": "execute_result"
    }
   ],
   "source": [
    "[el['tracks'] for el in playlists['items']]"
   ]
  },
  {
   "cell_type": "code",
   "execution_count": 3,
   "metadata": {
    "ExecuteTime": {
     "end_time": "2018-09-07T20:37:55.946322Z",
     "start_time": "2018-09-07T20:37:55.935990Z"
    }
   },
   "outputs": [],
   "source": [
    "# cleaning artists\n",
    "tracks['artists'] = tracks['artists'].apply\\\n",
    "    (lambda x: x[len('\\ufeff'):] if x[:len('\\ufeff')] == '\\ufeff' else x)"
   ]
  },
  {
   "cell_type": "code",
   "execution_count": 4,
   "metadata": {
    "ExecuteTime": {
     "end_time": "2018-09-07T20:37:56.516368Z",
     "start_time": "2018-09-07T20:37:56.488551Z"
    },
    "scrolled": true
   },
   "outputs": [
    {
     "data": {
      "text/plain": [
       "829"
      ]
     },
     "execution_count": 4,
     "metadata": {},
     "output_type": "execute_result"
    }
   ],
   "source": [
    "# how many distinct artists do I have?\n",
    "artists = set()\n",
    "for a in list(tracks['artists'].unique()):\n",
    "#     print('-------', a)\n",
    "    names = a.split(' ')\n",
    "    for n in names:\n",
    "        artists.add(n)\n",
    "len(artists)"
   ]
  },
  {
   "cell_type": "code",
   "execution_count": 5,
   "metadata": {
    "ExecuteTime": {
     "end_time": "2018-09-07T20:37:57.452584Z",
     "start_time": "2018-09-07T20:37:57.443774Z"
    }
   },
   "outputs": [],
   "source": [
    "# to check possible typos\n",
    "sorted_artists = list(artists)\n",
    "sorted_artists.sort()\n",
    "# sorted_artists"
   ]
  },
  {
   "cell_type": "code",
   "execution_count": 6,
   "metadata": {
    "ExecuteTime": {
     "end_time": "2018-09-07T20:37:59.166174Z",
     "start_time": "2018-09-07T20:37:59.159390Z"
    }
   },
   "outputs": [],
   "source": [
    "# what are the most frequent artists?\n",
    "artist_occurrences = dict()\n",
    "for a in list(tracks['artists']):\n",
    "    names = a.split(' ')\n",
    "    for n in names:\n",
    "        if n not in artist_occurrences.keys():\n",
    "            artist_occurrences[n] = 0\n",
    "        artist_occurrences[n] += 1"
   ]
  },
  {
   "cell_type": "code",
   "execution_count": 7,
   "metadata": {
    "ExecuteTime": {
     "end_time": "2018-09-07T20:37:59.700306Z",
     "start_time": "2018-09-07T20:37:59.696455Z"
    }
   },
   "outputs": [],
   "source": [
    "artist_occurrences_list = []\n",
    "for a, o in artist_occurrences.items():\n",
    "#     print('-',o)\n",
    "    artist_occurrences_list.append([a, o])\n",
    "artist_occurrences_list.sort(key=lambda x: -x[1])"
   ]
  },
  {
   "cell_type": "code",
   "execution_count": 8,
   "metadata": {
    "ExecuteTime": {
     "end_time": "2018-09-07T20:38:00.482582Z",
     "start_time": "2018-09-07T20:38:00.477455Z"
    }
   },
   "outputs": [
    {
     "data": {
      "text/plain": [
       "[['Paul_Kalkbrenner', 44],\n",
       " ['Ludovico_Einaudi', 43],\n",
       " ['Yann_Tiersen', 40],\n",
       " ['Coldplay', 37],\n",
       " ['Flume', 29],\n",
       " ['Enrico_Caruso', 27],\n",
       " ['Chopin', 24],\n",
       " ['Fritz_Kalkbrenner', 24],\n",
       " ['Nils_Frahm', 21],\n",
       " ['Florence_and_The_Machine', 20],\n",
       " ['Daughter', 19],\n",
       " ['Fabri_Fibra', 19],\n",
       " ['Beriot', 18],\n",
       " ['Hardwell', 18],\n",
       " ['David_Guetta', 17],\n",
       " ['Johann_Strauss_II', 16],\n",
       " ['Benny_Benassi', 16],\n",
       " ['Arvo_Pärt', 16],\n",
       " ['Locatelli', 15],\n",
       " ['The_xx', 15]]"
      ]
     },
     "execution_count": 8,
     "metadata": {},
     "output_type": "execute_result"
    }
   ],
   "source": [
    "artist_occurrences_list[:20]"
   ]
  },
  {
   "cell_type": "markdown",
   "metadata": {},
   "source": [
    "# listen to tracks"
   ]
  },
  {
   "cell_type": "code",
   "execution_count": 9,
   "metadata": {
    "ExecuteTime": {
     "end_time": "2018-09-07T20:38:02.998957Z",
     "start_time": "2018-09-07T20:38:02.994865Z"
    }
   },
   "outputs": [],
   "source": [
    "tracks_list = tracks.values.tolist()"
   ]
  },
  {
   "cell_type": "code",
   "execution_count": 10,
   "metadata": {
    "ExecuteTime": {
     "end_time": "2018-09-07T20:38:03.587819Z",
     "start_time": "2018-09-07T20:38:03.583085Z"
    }
   },
   "outputs": [],
   "source": [
    "def printt(s):\n",
    "    print('  ' + str(s))\n"
   ]
  },
  {
   "cell_type": "code",
   "execution_count": 11,
   "metadata": {
    "ExecuteTime": {
     "end_time": "2018-09-07T20:38:04.405886Z",
     "start_time": "2018-09-07T20:38:04.403408Z"
    }
   },
   "outputs": [],
   "source": [
    "import numpy as np\n",
    "import math"
   ]
  },
  {
   "cell_type": "code",
   "execution_count": 100,
   "metadata": {
    "ExecuteTime": {
     "end_time": "2018-09-08T06:36:40.009051Z",
     "start_time": "2018-09-08T06:36:39.252071Z"
    }
   },
   "outputs": [
    {
     "name": "stdout",
     "output_type": "stream",
     "text": [
      "Muse Madness\n",
      "http://www.youtube.com/watch?v=Ek0SgwWmF9w\n",
      "https://www.google.com/search?q=Muse+Madness+beatport\n"
     ]
    }
   ],
   "source": [
    "i -= 1\n",
    "# i = 1361\n",
    "# i = len(tracks_list) - 1\n",
    "t = tracks_list[i]\n",
    "search = ''\n",
    "for el in t:\n",
    "    try:\n",
    "        if math.isnan(el):\n",
    "            pass\n",
    "#             printt(el)\n",
    "    except:\n",
    "        el = el.replace('_', ' ')\n",
    "        search += (el) + ' '\n",
    "search = search[:-1]\n",
    "query_string = urllib.parse.urlencode({\"search_query\" : search})\n",
    "html_content = urllib.request.urlopen(\"http://www.youtube.com/results?\" + query_string)\n",
    "search_results = re.findall(r'href=\\\"\\/watch\\?v=(.{11})', html_content.read().decode())\n",
    "print(search)\n",
    "print(\"http://www.youtube.com/watch?v=\" + search_results[0])\n",
    "\n",
    "# to get genre and bpm\n",
    "sb = search + ' ' 'beatport'\n",
    "sbl = sb.split(' ')\n",
    "s2 = '+'.join(sbl)\n",
    "print(\"https://www.google.com/search?q=\" + s2)\n"
   ]
  },
  {
   "cell_type": "code",
   "execution_count": 79,
   "metadata": {
    "ExecuteTime": {
     "end_time": "2018-09-02T15:23:39.179305Z",
     "start_time": "2018-09-02T15:23:39.173618Z"
    }
   },
   "outputs": [
    {
     "data": {
      "text/plain": [
       "['Steve+', 'Parker+', 'The+', 'Prophet+', 'beatport']"
      ]
     },
     "execution_count": 79,
     "metadata": {},
     "output_type": "execute_result"
    }
   ],
   "source": [
    "[s + '+' for s in search.split(' ')] + ['beatport']"
   ]
  },
  {
   "cell_type": "markdown",
   "metadata": {},
   "source": [
    "artist,title,genre,bpm,src,tags"
   ]
  },
  {
   "cell_type": "markdown",
   "metadata": {},
   "source": [
    "tags: soft, chill, heavy, piano, voice, synth, brass, strings, orchestra"
   ]
  }
 ],
 "metadata": {
  "kernelspec": {
   "display_name": "Python 3",
   "language": "python",
   "name": "python3"
  },
  "language_info": {
   "codemirror_mode": {
    "name": "ipython",
    "version": 3
   },
   "file_extension": ".py",
   "mimetype": "text/x-python",
   "name": "python",
   "nbconvert_exporter": "python",
   "pygments_lexer": "ipython3",
   "version": "3.6.6"
  }
 },
 "nbformat": 4,
 "nbformat_minor": 2
}
