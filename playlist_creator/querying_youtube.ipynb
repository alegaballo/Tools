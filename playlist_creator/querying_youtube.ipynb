{
 "cells": [
  {
   "cell_type": "code",
   "execution_count": 1,
   "metadata": {
    "ExecuteTime": {
     "end_time": "2018-09-02T12:43:36.259263Z",
     "start_time": "2018-09-02T12:43:35.833248Z"
    }
   },
   "outputs": [],
   "source": [
    "import urllib.request\n",
    "import urllib.parse\n",
    "import re\n",
    "import pandas as pd\n",
    "pd.options.display.max_rows = 2000"
   ]
  },
  {
   "cell_type": "code",
   "execution_count": 2,
   "metadata": {
    "ExecuteTime": {
     "end_time": "2018-09-02T12:43:36.910560Z",
     "start_time": "2018-09-02T12:43:36.890509Z"
    }
   },
   "outputs": [],
   "source": [
    "tracks = pd.read_csv('titles.csv')"
   ]
  },
  {
   "cell_type": "code",
   "execution_count": 3,
   "metadata": {
    "ExecuteTime": {
     "end_time": "2018-09-02T12:43:38.335632Z",
     "start_time": "2018-09-02T12:43:38.321506Z"
    }
   },
   "outputs": [],
   "source": [
    "# cleaning artists\n",
    "tracks['artists'] = tracks['artists'].apply\\\n",
    "    (lambda x: x[len('\\ufeff'):] if x[:len('\\ufeff')] == '\\ufeff' else x)"
   ]
  },
  {
   "cell_type": "code",
   "execution_count": 4,
   "metadata": {
    "ExecuteTime": {
     "end_time": "2018-09-02T12:43:39.306123Z",
     "start_time": "2018-09-02T12:43:39.292224Z"
    },
    "scrolled": true
   },
   "outputs": [
    {
     "data": {
      "text/plain": [
       "832"
      ]
     },
     "execution_count": 4,
     "metadata": {},
     "output_type": "execute_result"
    }
   ],
   "source": [
    "# how many distinct artists do I have?\n",
    "artists = set()\n",
    "for a in list(tracks['artists'].unique()):\n",
    "#     print('-------', a)\n",
    "    names = a.split(' ')\n",
    "    for n in names:\n",
    "        artists.add(n)\n",
    "len(artists)"
   ]
  },
  {
   "cell_type": "code",
   "execution_count": 5,
   "metadata": {
    "ExecuteTime": {
     "end_time": "2018-09-02T12:43:45.698250Z",
     "start_time": "2018-09-02T12:43:45.690198Z"
    }
   },
   "outputs": [],
   "source": [
    "# to check possible typos\n",
    "sorted_artists = list(artists)\n",
    "sorted_artists.sort()\n",
    "# sorted_artists"
   ]
  },
  {
   "cell_type": "code",
   "execution_count": 6,
   "metadata": {
    "ExecuteTime": {
     "end_time": "2018-09-02T12:43:47.891851Z",
     "start_time": "2018-09-02T12:43:47.884296Z"
    }
   },
   "outputs": [],
   "source": [
    "# what are the most frequent artists?\n",
    "artist_occurrences = dict()\n",
    "for a in list(tracks['artists']):\n",
    "    names = a.split(' ')\n",
    "    for n in names:\n",
    "        if n not in artist_occurrences.keys():\n",
    "            artist_occurrences[n] = 0\n",
    "        artist_occurrences[n] += 1"
   ]
  },
  {
   "cell_type": "code",
   "execution_count": 7,
   "metadata": {
    "ExecuteTime": {
     "end_time": "2018-09-02T12:43:50.073577Z",
     "start_time": "2018-09-02T12:43:50.067987Z"
    }
   },
   "outputs": [],
   "source": [
    "artist_occurrences_list = []\n",
    "for a, o in artist_occurrences.items():\n",
    "#     print('-',o)\n",
    "    artist_occurrences_list.append([a, o])\n",
    "artist_occurrences_list.sort(key=lambda x: -x[1])"
   ]
  },
  {
   "cell_type": "code",
   "execution_count": 8,
   "metadata": {
    "ExecuteTime": {
     "end_time": "2018-09-02T12:43:51.284717Z",
     "start_time": "2018-09-02T12:43:51.277954Z"
    }
   },
   "outputs": [
    {
     "data": {
      "text/plain": [
       "[['Paul_Kalkbrenner', 44],\n",
       " ['Ludovico_Einaudi', 43],\n",
       " ['Yann_Tiersen', 40],\n",
       " ['Coldplay', 37],\n",
       " ['Flume', 29],\n",
       " ['Enrico_Caruso', 27],\n",
       " ['Chopin', 24],\n",
       " ['Fritz_Kalkbrenner', 24],\n",
       " ['Nils_Frahm', 21],\n",
       " ['Florence_and_The_Machine', 20],\n",
       " ['Daughter', 19],\n",
       " ['Fabri_Fibra', 19],\n",
       " ['Beriot', 18],\n",
       " ['Hardwell', 18],\n",
       " ['David_Guetta', 17],\n",
       " ['Johann_Strauss_II', 16],\n",
       " ['Benny_Benassi', 16],\n",
       " ['Arvo_Pärt', 16],\n",
       " ['Locatelli', 15],\n",
       " ['The_xx', 15]]"
      ]
     },
     "execution_count": 8,
     "metadata": {},
     "output_type": "execute_result"
    }
   ],
   "source": [
    "artist_occurrences_list[:20]"
   ]
  },
  {
   "cell_type": "markdown",
   "metadata": {},
   "source": [
    "# listen to tracks"
   ]
  },
  {
   "cell_type": "code",
   "execution_count": 9,
   "metadata": {
    "ExecuteTime": {
     "end_time": "2018-09-02T12:44:18.873480Z",
     "start_time": "2018-09-02T12:44:18.869528Z"
    }
   },
   "outputs": [],
   "source": [
    "tracks_list = tracks.values.tolist()"
   ]
  },
  {
   "cell_type": "code",
   "execution_count": 18,
   "metadata": {
    "ExecuteTime": {
     "end_time": "2018-09-02T13:15:01.908529Z",
     "start_time": "2018-09-02T13:15:01.903664Z"
    }
   },
   "outputs": [],
   "source": [
    "def printt(s):\n",
    "    print('  ' + str(s))\n"
   ]
  },
  {
   "cell_type": "code",
   "execution_count": 215,
   "metadata": {
    "ExecuteTime": {
     "end_time": "2018-09-02T21:05:07.961148Z",
     "start_time": "2018-09-02T21:05:07.144678Z"
    }
   },
   "outputs": [
    {
     "name": "stdout",
     "output_type": "stream",
     "text": [
      "Slam Blue Dragon\n",
      "http://www.youtube.com/watch?v=UvipSFHbRRk\n",
      "https://www.google.com/search?q=Slam+Blue+Dragon+beatport\n"
     ]
    }
   ],
   "source": [
    "i -= 1\n",
    "# i = len(tracks_list) - 1\n",
    "t = tracks_list[i]\n",
    "search = ''\n",
    "for el in t:\n",
    "    el = el.replace('_', ' ')\n",
    "#     printt(el)\n",
    "    search += (el) + ' '\n",
    "search = search[:-1]\n",
    "query_string = urllib.parse.urlencode({\"search_query\" : search})\n",
    "html_content = urllib.request.urlopen(\"http://www.youtube.com/results?\" + query_string)\n",
    "search_results = re.findall(r'href=\\\"\\/watch\\?v=(.{11})', html_content.read().decode())\n",
    "print(search)\n",
    "print(\"http://www.youtube.com/watch?v=\" + search_results[0])\n",
    "\n",
    "# to get genre and bpm\n",
    "sb = search + ' ' 'beatport'\n",
    "sbl = sb.split(' ')\n",
    "s2 = '+'.join(sbl)\n",
    "print(\"https://www.google.com/search?q=\" + s2)\n"
   ]
  },
  {
   "cell_type": "code",
   "execution_count": 79,
   "metadata": {
    "ExecuteTime": {
     "end_time": "2018-09-02T15:23:39.179305Z",
     "start_time": "2018-09-02T15:23:39.173618Z"
    }
   },
   "outputs": [
    {
     "data": {
      "text/plain": [
       "['Steve+', 'Parker+', 'The+', 'Prophet+', 'beatport']"
      ]
     },
     "execution_count": 79,
     "metadata": {},
     "output_type": "execute_result"
    }
   ],
   "source": [
    "[s + '+' for s in search.split(' ')] + ['beatport']"
   ]
  },
  {
   "cell_type": "markdown",
   "metadata": {},
   "source": [
    "artist,title,genre,bpm,src,tags"
   ]
  },
  {
   "cell_type": "markdown",
   "metadata": {},
   "source": [
    "tags: soft, chill, heavy, piano, voice, synth, brass, strings, orchestra"
   ]
  }
 ],
 "metadata": {
  "kernelspec": {
   "display_name": "Python 3",
   "language": "python",
   "name": "python3"
  },
  "language_info": {
   "codemirror_mode": {
    "name": "ipython",
    "version": 3
   },
   "file_extension": ".py",
   "mimetype": "text/x-python",
   "name": "python",
   "nbconvert_exporter": "python",
   "pygments_lexer": "ipython3",
   "version": "3.6.5"
  }
 },
 "nbformat": 4,
 "nbformat_minor": 2
}
